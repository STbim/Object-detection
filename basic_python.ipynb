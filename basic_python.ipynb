{
  "nbformat": 4,
  "nbformat_minor": 0,
  "metadata": {
    "colab": {
      "provenance": [],
      "authorship_tag": "ABX9TyMlEEy1dHpB4DH2dYQvfwcK",
      "include_colab_link": true
    },
    "kernelspec": {
      "name": "python3",
      "display_name": "Python 3"
    },
    "language_info": {
      "name": "python"
    }
  },
  "cells": [
    {
      "cell_type": "markdown",
      "metadata": {
        "id": "view-in-github",
        "colab_type": "text"
      },
      "source": [
        "<a href=\"https://colab.research.google.com/github/STbim/Object-detection/blob/master/basic_python.ipynb\" target=\"_parent\"><img src=\"https://colab.research.google.com/assets/colab-badge.svg\" alt=\"Open In Colab\"/></a>"
      ]
    },
    {
      "cell_type": "code",
      "execution_count": 1,
      "metadata": {
        "colab": {
          "base_uri": "https://localhost:8080/"
        },
        "id": "GY4BOwyPbWGK",
        "outputId": "4ea6a79d-549e-49f7-86b8-9fdaa22f6772"
      },
      "outputs": [
        {
          "output_type": "stream",
          "name": "stdout",
          "text": [
            "Hello\n"
          ]
        }
      ],
      "source": [
        "print(\"Hello\")"
      ]
    },
    {
      "cell_type": "code",
      "source": [
        "# Dictionary\n",
        "# key : value\n",
        "thisdict ={\"brand\" : \"subaru\", \"year\" : 2022}\n",
        "print(thisdict[\"brand\"])\n",
        "print(thisdict[\"year\"])\n"
      ],
      "metadata": {
        "colab": {
          "base_uri": "https://localhost:8080/"
        },
        "id": "ahgA74uXhpq_",
        "outputId": "903041a0-4059-41d3-a285-e8c2f7919515"
      },
      "execution_count": 3,
      "outputs": [
        {
          "output_type": "stream",
          "name": "stdout",
          "text": [
            "subaru\n",
            "2022\n"
          ]
        }
      ]
    },
    {
      "cell_type": "code",
      "source": [
        "# Condition\n",
        "a = 500\n",
        "b= 50\n",
        "if b > a:\n",
        "  print(\"b is greater than a\")\n",
        "elif a > b:\n",
        "  print(\"a is greater than b\")\n",
        "else:\n",
        "  print(\" a and b are equal\")"
      ],
      "metadata": {
        "colab": {
          "base_uri": "https://localhost:8080/"
        },
        "id": "xGnisZ24i_qq",
        "outputId": "f2020218-a2ce-454b-f10a-e8053b54b033"
      },
      "execution_count": 4,
      "outputs": [
        {
          "output_type": "stream",
          "name": "stdout",
          "text": [
            "a is greater than b\n"
          ]
        }
      ]
    },
    {
      "cell_type": "code",
      "source": [
        "# while loop\n",
        "i = 3 \n",
        "while i < 8:\n",
        "  print(i)\n",
        "  i = i + 2"
      ],
      "metadata": {
        "colab": {
          "base_uri": "https://localhost:8080/"
        },
        "id": "D-R-5XTlkLmH",
        "outputId": "7ce4c621-45c0-4e45-8447-1bf92e9aeeb5"
      },
      "execution_count": 7,
      "outputs": [
        {
          "output_type": "stream",
          "name": "stdout",
          "text": [
            "3\n",
            "5\n",
            "7\n"
          ]
        }
      ]
    },
    {
      "cell_type": "code",
      "source": [
        "# object\n",
        "# [1] คุณสมบัติ (Attribute) [2] ฟังก์ชั่นการทำงาน (Method)\n",
        "class Person:\n",
        "  def __init__(self, name, age):\n",
        "    self.name = name\n",
        "    self.age = age \n",
        "  def eat(selt):\n",
        "    print(\"I can eat now\")\n",
        "\n",
        "p1 = Person(\"Sarawut\", 26)\n",
        "print(p1.name)\n",
        "print(p1.age)\n",
        "p1.eat()\n",
        "\n",
        "    "
      ],
      "metadata": {
        "colab": {
          "base_uri": "https://localhost:8080/"
        },
        "id": "lz1tEuo5nj9z",
        "outputId": "51599687-89a6-4def-df07-c5c6bf677a3a"
      },
      "execution_count": 9,
      "outputs": [
        {
          "output_type": "stream",
          "name": "stdout",
          "text": [
            "Sarawut\n",
            "26\n",
            "I can eat now\n"
          ]
        }
      ]
    },
    {
      "cell_type": "code",
      "source": [
        "# การเรียกใช้ ไลบรารี่\n",
        "import numpy as np\n",
        "\n",
        "# numpy array\n",
        "arr = np.array(50)\n",
        "print(arr)\n",
        "\n",
        "arr = np.array([1, 2, 3, 4, 5])\n",
        "print(arr)\n",
        "\n",
        "arr = np.array([[1,2,3],[4,5,6]])\n",
        "print(arr)\n",
        "print(arr.ndim)\n",
        "print(arr.shape)"
      ],
      "metadata": {
        "colab": {
          "base_uri": "https://localhost:8080/"
        },
        "id": "3ZtLXHZrpNRC",
        "outputId": "eb6c6a4d-198b-428a-8fb8-d0392b4e3576"
      },
      "execution_count": 14,
      "outputs": [
        {
          "output_type": "stream",
          "name": "stdout",
          "text": [
            "50\n",
            "[1 2 3 4 5]\n",
            "[[1 2 3]\n",
            " [4 5 6]]\n",
            "2\n",
            "(2, 3)\n"
          ]
        }
      ]
    }
  ]
}